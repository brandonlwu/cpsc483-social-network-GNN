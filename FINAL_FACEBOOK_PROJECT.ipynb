{
  "nbformat": 4,
  "nbformat_minor": 0,
  "metadata": {
    "colab": {
      "provenance": []
    },
    "kernelspec": {
      "name": "python3",
      "display_name": "Python 3"
    },
    "language_info": {
      "name": "python"
    }
  },
  "cells": [
    {
      "cell_type": "markdown",
      "source": [
        "# **Community Prediction and Recommendation on Social Media Data**\n"
      ],
      "metadata": {
        "id": "3XMJGgXQNqRA"
      }
    },
    {
      "cell_type": "code",
      "source": [
        "import matplotlib.pyplot as plt\n",
        "import os\n",
        "import torch\n",
        "print(\"Using torch\", torch.__version__)"
      ],
      "metadata": {
        "colab": {
          "base_uri": "https://localhost:8080/"
        },
        "id": "oMHRFSZMNsgQ",
        "outputId": "52487613-9fe2-4f0d-a0db-80fe43058e9d"
      },
      "execution_count": null,
      "outputs": [
        {
          "output_type": "stream",
          "name": "stdout",
          "text": [
            "Using torch 2.1.0+cu118\n"
          ]
        }
      ]
    },
    {
      "cell_type": "code",
      "source": [
        "!pip install scikit-plot==0.3.7\n",
        "!pip install torch-geometric\n",
        "!pip install ogb  # for datasets"
      ],
      "metadata": {
        "id": "AFHUH61JvhDH",
        "colab": {
          "base_uri": "https://localhost:8080/"
        },
        "outputId": "520c2696-518c-4dff-bdf0-2867e6e5b4f8"
      },
      "execution_count": null,
      "outputs": [
        {
          "output_type": "stream",
          "name": "stdout",
          "text": [
            "Collecting scikit-plot==0.3.7\n",
            "  Downloading scikit_plot-0.3.7-py3-none-any.whl (33 kB)\n",
            "Requirement already satisfied: matplotlib>=1.4.0 in /usr/local/lib/python3.10/dist-packages (from scikit-plot==0.3.7) (3.7.1)\n",
            "Requirement already satisfied: scikit-learn>=0.18 in /usr/local/lib/python3.10/dist-packages (from scikit-plot==0.3.7) (1.2.2)\n",
            "Requirement already satisfied: scipy>=0.9 in /usr/local/lib/python3.10/dist-packages (from scikit-plot==0.3.7) (1.11.4)\n",
            "Requirement already satisfied: joblib>=0.10 in /usr/local/lib/python3.10/dist-packages (from scikit-plot==0.3.7) (1.3.2)\n",
            "Requirement already satisfied: contourpy>=1.0.1 in /usr/local/lib/python3.10/dist-packages (from matplotlib>=1.4.0->scikit-plot==0.3.7) (1.2.0)\n",
            "Requirement already satisfied: cycler>=0.10 in /usr/local/lib/python3.10/dist-packages (from matplotlib>=1.4.0->scikit-plot==0.3.7) (0.12.1)\n",
            "Requirement already satisfied: fonttools>=4.22.0 in /usr/local/lib/python3.10/dist-packages (from matplotlib>=1.4.0->scikit-plot==0.3.7) (4.46.0)\n",
            "Requirement already satisfied: kiwisolver>=1.0.1 in /usr/local/lib/python3.10/dist-packages (from matplotlib>=1.4.0->scikit-plot==0.3.7) (1.4.5)\n",
            "Requirement already satisfied: numpy>=1.20 in /usr/local/lib/python3.10/dist-packages (from matplotlib>=1.4.0->scikit-plot==0.3.7) (1.23.5)\n",
            "Requirement already satisfied: packaging>=20.0 in /usr/local/lib/python3.10/dist-packages (from matplotlib>=1.4.0->scikit-plot==0.3.7) (23.2)\n",
            "Requirement already satisfied: pillow>=6.2.0 in /usr/local/lib/python3.10/dist-packages (from matplotlib>=1.4.0->scikit-plot==0.3.7) (9.4.0)\n",
            "Requirement already satisfied: pyparsing>=2.3.1 in /usr/local/lib/python3.10/dist-packages (from matplotlib>=1.4.0->scikit-plot==0.3.7) (3.1.1)\n",
            "Requirement already satisfied: python-dateutil>=2.7 in /usr/local/lib/python3.10/dist-packages (from matplotlib>=1.4.0->scikit-plot==0.3.7) (2.8.2)\n",
            "Requirement already satisfied: threadpoolctl>=2.0.0 in /usr/local/lib/python3.10/dist-packages (from scikit-learn>=0.18->scikit-plot==0.3.7) (3.2.0)\n",
            "Requirement already satisfied: six>=1.5 in /usr/local/lib/python3.10/dist-packages (from python-dateutil>=2.7->matplotlib>=1.4.0->scikit-plot==0.3.7) (1.16.0)\n",
            "Installing collected packages: scikit-plot\n",
            "Successfully installed scikit-plot-0.3.7\n",
            "Collecting torch-geometric\n",
            "  Downloading torch_geometric-2.4.0-py3-none-any.whl (1.0 MB)\n",
            "\u001b[2K     \u001b[90m━━━━━━━━━━━━━━━━━━━━━━━━━━━━━━━━━━━━━━━━\u001b[0m \u001b[32m1.0/1.0 MB\u001b[0m \u001b[31m10.3 MB/s\u001b[0m eta \u001b[36m0:00:00\u001b[0m\n",
            "\u001b[?25hRequirement already satisfied: tqdm in /usr/local/lib/python3.10/dist-packages (from torch-geometric) (4.66.1)\n",
            "Requirement already satisfied: numpy in /usr/local/lib/python3.10/dist-packages (from torch-geometric) (1.23.5)\n",
            "Requirement already satisfied: scipy in /usr/local/lib/python3.10/dist-packages (from torch-geometric) (1.11.4)\n",
            "Requirement already satisfied: jinja2 in /usr/local/lib/python3.10/dist-packages (from torch-geometric) (3.1.2)\n",
            "Requirement already satisfied: requests in /usr/local/lib/python3.10/dist-packages (from torch-geometric) (2.31.0)\n",
            "Requirement already satisfied: pyparsing in /usr/local/lib/python3.10/dist-packages (from torch-geometric) (3.1.1)\n",
            "Requirement already satisfied: scikit-learn in /usr/local/lib/python3.10/dist-packages (from torch-geometric) (1.2.2)\n",
            "Requirement already satisfied: psutil>=5.8.0 in /usr/local/lib/python3.10/dist-packages (from torch-geometric) (5.9.5)\n",
            "Requirement already satisfied: MarkupSafe>=2.0 in /usr/local/lib/python3.10/dist-packages (from jinja2->torch-geometric) (2.1.3)\n",
            "Requirement already satisfied: charset-normalizer<4,>=2 in /usr/local/lib/python3.10/dist-packages (from requests->torch-geometric) (3.3.2)\n",
            "Requirement already satisfied: idna<4,>=2.5 in /usr/local/lib/python3.10/dist-packages (from requests->torch-geometric) (3.6)\n",
            "Requirement already satisfied: urllib3<3,>=1.21.1 in /usr/local/lib/python3.10/dist-packages (from requests->torch-geometric) (2.0.7)\n",
            "Requirement already satisfied: certifi>=2017.4.17 in /usr/local/lib/python3.10/dist-packages (from requests->torch-geometric) (2023.11.17)\n",
            "Requirement already satisfied: joblib>=1.1.1 in /usr/local/lib/python3.10/dist-packages (from scikit-learn->torch-geometric) (1.3.2)\n",
            "Requirement already satisfied: threadpoolctl>=2.0.0 in /usr/local/lib/python3.10/dist-packages (from scikit-learn->torch-geometric) (3.2.0)\n",
            "Installing collected packages: torch-geometric\n",
            "Successfully installed torch-geometric-2.4.0\n",
            "Collecting ogb\n",
            "  Downloading ogb-1.3.6-py3-none-any.whl (78 kB)\n",
            "\u001b[2K     \u001b[90m━━━━━━━━━━━━━━━━━━━━━━━━━━━━━━━━━━━━━━━━\u001b[0m \u001b[32m78.8/78.8 kB\u001b[0m \u001b[31m2.4 MB/s\u001b[0m eta \u001b[36m0:00:00\u001b[0m\n",
            "\u001b[?25hRequirement already satisfied: torch>=1.6.0 in /usr/local/lib/python3.10/dist-packages (from ogb) (2.1.0+cu118)\n",
            "Requirement already satisfied: numpy>=1.16.0 in /usr/local/lib/python3.10/dist-packages (from ogb) (1.23.5)\n",
            "Requirement already satisfied: tqdm>=4.29.0 in /usr/local/lib/python3.10/dist-packages (from ogb) (4.66.1)\n",
            "Requirement already satisfied: scikit-learn>=0.20.0 in /usr/local/lib/python3.10/dist-packages (from ogb) (1.2.2)\n",
            "Requirement already satisfied: pandas>=0.24.0 in /usr/local/lib/python3.10/dist-packages (from ogb) (1.5.3)\n",
            "Requirement already satisfied: six>=1.12.0 in /usr/local/lib/python3.10/dist-packages (from ogb) (1.16.0)\n",
            "Requirement already satisfied: urllib3>=1.24.0 in /usr/local/lib/python3.10/dist-packages (from ogb) (2.0.7)\n",
            "Collecting outdated>=0.2.0 (from ogb)\n",
            "  Downloading outdated-0.2.2-py2.py3-none-any.whl (7.5 kB)\n",
            "Requirement already satisfied: setuptools>=44 in /usr/local/lib/python3.10/dist-packages (from outdated>=0.2.0->ogb) (67.7.2)\n",
            "Collecting littleutils (from outdated>=0.2.0->ogb)\n",
            "  Downloading littleutils-0.2.2.tar.gz (6.6 kB)\n",
            "  Preparing metadata (setup.py) ... \u001b[?25l\u001b[?25hdone\n",
            "Requirement already satisfied: requests in /usr/local/lib/python3.10/dist-packages (from outdated>=0.2.0->ogb) (2.31.0)\n",
            "Requirement already satisfied: python-dateutil>=2.8.1 in /usr/local/lib/python3.10/dist-packages (from pandas>=0.24.0->ogb) (2.8.2)\n",
            "Requirement already satisfied: pytz>=2020.1 in /usr/local/lib/python3.10/dist-packages (from pandas>=0.24.0->ogb) (2023.3.post1)\n",
            "Requirement already satisfied: scipy>=1.3.2 in /usr/local/lib/python3.10/dist-packages (from scikit-learn>=0.20.0->ogb) (1.11.4)\n",
            "Requirement already satisfied: joblib>=1.1.1 in /usr/local/lib/python3.10/dist-packages (from scikit-learn>=0.20.0->ogb) (1.3.2)\n",
            "Requirement already satisfied: threadpoolctl>=2.0.0 in /usr/local/lib/python3.10/dist-packages (from scikit-learn>=0.20.0->ogb) (3.2.0)\n",
            "Requirement already satisfied: filelock in /usr/local/lib/python3.10/dist-packages (from torch>=1.6.0->ogb) (3.13.1)\n",
            "Requirement already satisfied: typing-extensions in /usr/local/lib/python3.10/dist-packages (from torch>=1.6.0->ogb) (4.5.0)\n",
            "Requirement already satisfied: sympy in /usr/local/lib/python3.10/dist-packages (from torch>=1.6.0->ogb) (1.12)\n",
            "Requirement already satisfied: networkx in /usr/local/lib/python3.10/dist-packages (from torch>=1.6.0->ogb) (3.2.1)\n",
            "Requirement already satisfied: jinja2 in /usr/local/lib/python3.10/dist-packages (from torch>=1.6.0->ogb) (3.1.2)\n",
            "Requirement already satisfied: fsspec in /usr/local/lib/python3.10/dist-packages (from torch>=1.6.0->ogb) (2023.6.0)\n",
            "Requirement already satisfied: triton==2.1.0 in /usr/local/lib/python3.10/dist-packages (from torch>=1.6.0->ogb) (2.1.0)\n",
            "Requirement already satisfied: MarkupSafe>=2.0 in /usr/local/lib/python3.10/dist-packages (from jinja2->torch>=1.6.0->ogb) (2.1.3)\n",
            "Requirement already satisfied: charset-normalizer<4,>=2 in /usr/local/lib/python3.10/dist-packages (from requests->outdated>=0.2.0->ogb) (3.3.2)\n",
            "Requirement already satisfied: idna<4,>=2.5 in /usr/local/lib/python3.10/dist-packages (from requests->outdated>=0.2.0->ogb) (3.6)\n",
            "Requirement already satisfied: certifi>=2017.4.17 in /usr/local/lib/python3.10/dist-packages (from requests->outdated>=0.2.0->ogb) (2023.11.17)\n",
            "Requirement already satisfied: mpmath>=0.19 in /usr/local/lib/python3.10/dist-packages (from sympy->torch>=1.6.0->ogb) (1.3.0)\n",
            "Building wheels for collected packages: littleutils\n",
            "  Building wheel for littleutils (setup.py) ... \u001b[?25l\u001b[?25hdone\n",
            "  Created wheel for littleutils: filename=littleutils-0.2.2-py3-none-any.whl size=7026 sha256=cc66331037ca1e511dc289c97562f7c84725eb93aa5bcfab3a9854e687f5a684\n",
            "  Stored in directory: /root/.cache/pip/wheels/3d/fe/b0/27a9892da57472e538c7452a721a9cf463cc03cf7379889266\n",
            "Successfully built littleutils\n",
            "Installing collected packages: littleutils, outdated, ogb\n",
            "Successfully installed littleutils-0.2.2 ogb-1.3.6 outdated-0.2.2\n"
          ]
        }
      ]
    },
    {
      "cell_type": "code",
      "source": [
        "import scikitplot as skplt\n",
        "from torch_geometric.datasets.snap_dataset import SNAPDataset"
      ],
      "metadata": {
        "id": "_2qDgEozLvFF"
      },
      "execution_count": null,
      "outputs": []
    },
    {
      "cell_type": "markdown",
      "source": [
        "## Preprocessing"
      ],
      "metadata": {
        "id": "5m3d7O3UQRu4"
      }
    },
    {
      "cell_type": "code",
      "source": [
        "from torch_geometric.data import Data\n",
        "from torch_geometric import nn\n",
        "import torch_geometric\n",
        "import torch_geometric.transforms as T"
      ],
      "metadata": {
        "id": "JB5eOsydQRPs"
      },
      "execution_count": null,
      "outputs": []
    },
    {
      "cell_type": "code",
      "source": [
        "# train/test/validation split\n",
        "transform = T.Compose([\n",
        "    T.RandomLinkSplit(num_val=0.05,  # ratio of edges including in the validation set\n",
        "                      num_test=0.2,  # ratio of edges including in the test set\n",
        "                      is_undirected=True,\n",
        "                      add_negative_train_samples=False),\n",
        "])"
      ],
      "metadata": {
        "id": "lvMqIyEgQa_m"
      },
      "execution_count": null,
      "outputs": []
    },
    {
      "cell_type": "code",
      "source": [
        "initial_datasets = SNAPDataset(root='/tmp/SNAPDataset', name='ego-facebook')\n",
        "\n",
        "# splits all the datasets in the Facebook dataset with the same train/test split\n",
        "datasets = SNAPDataset(root='/tmp/SNAPDataset', name='ego-facebook', transform=transform)"
      ],
      "metadata": {
        "id": "dLl304pwL4qT",
        "colab": {
          "base_uri": "https://localhost:8080/"
        },
        "outputId": "de73e776-b271-4ce6-a3f6-d17bc2deccf2"
      },
      "execution_count": null,
      "outputs": [
        {
          "output_type": "stream",
          "name": "stderr",
          "text": [
            "Downloading https://snap.stanford.edu/data/facebook.tar.gz\n",
            "Extracting /tmp/SNAPDataset/ego-facebook/raw/facebook.tar.gz\n",
            "Processing...\n",
            "Done!\n"
          ]
        }
      ]
    },
    {
      "cell_type": "code",
      "source": [
        "# first graph\n",
        "data = initial_datasets[0]\n",
        "\n",
        "# check transform worked correctly\n",
        "print(\"Graph 1 Transform\")\n",
        "train_data, val_data, test_data = datasets[0]\n",
        "print(\"Number of the nodes in training, validation and test data are\", train_data.num_nodes, val_data.num_nodes, test_data.num_nodes)\n",
        "print(\"Number of the edges in training, validation and test data are\", train_data.num_edges, val_data.num_edges, test_data.num_edges)\n",
        "print(\"Number of the edge_label_index in training, validation and test data are\", train_data.edge_label_index.shape[1],\n",
        "                                                                                  val_data.edge_label_index.shape[1],\n",
        "                                                                                  test_data.edge_label_index.shape[1])\n",
        "\n",
        "print(\"Graph 3 Transform\")\n",
        "train_data, val_data, test_data = datasets[2]\n",
        "print(\"Number of the nodes in training, validation and test data are\", train_data.num_nodes, val_data.num_nodes, test_data.num_nodes)\n",
        "print(\"Number of the edges in training, validation and test data are\", train_data.num_edges, val_data.num_edges, test_data.num_edges)\n",
        "print(\"Number of the edge_label_index in training, validation and test data are\", train_data.edge_label_index.shape[1],\n",
        "                                                                                  val_data.edge_label_index.shape[1],\n",
        "                                                                                  test_data.edge_label_index.shape[1])"
      ],
      "metadata": {
        "colab": {
          "base_uri": "https://localhost:8080/"
        },
        "id": "Mw6-lAqoMHMU",
        "outputId": "ecd3d75b-39b2-41db-968d-34fcc3e1914b"
      },
      "execution_count": null,
      "outputs": [
        {
          "output_type": "stream",
          "name": "stdout",
          "text": [
            "Graph 1 Transform\n",
            "Number of the nodes in training, validation and test data are 347 347 347\n",
            "Number of the edges in training, validation and test data are 4292 4292 4576\n",
            "Number of the edge_label_index in training, validation and test data are 2146 284 1142\n",
            "Graph 3 Transform\n",
            "Number of the nodes in training, validation and test data are 792 792 792\n",
            "Number of the edges in training, validation and test data are 22216 22216 23696\n",
            "Number of the edge_label_index in training, validation and test data are 11108 1480 5922\n"
          ]
        }
      ]
    },
    {
      "cell_type": "code",
      "source": [
        "print(\"Number of nodes and edges in all graphs: \", sum([initial_datasets[i].num_nodes for i in range(10)]), sum([initial_datasets[i].num_edges for i in range(10)]))\n",
        "print(initial_datasets[0])"
      ],
      "metadata": {
        "colab": {
          "base_uri": "https://localhost:8080/"
        },
        "id": "6J3Ihmq_MJY6",
        "outputId": "c543c38f-65b7-4495-d72c-388be9a1912c"
      },
      "execution_count": null,
      "outputs": [
        {
          "output_type": "stream",
          "name": "stdout",
          "text": [
            "Number of nodes and edges in all graphs:  4167 178124\n",
            "EgoData(x=[347, 1406], edge_index=[2, 5718], circle=[325], circle_batch=[325])\n"
          ]
        }
      ]
    },
    {
      "cell_type": "markdown",
      "source": [
        "## Basic Graph Info"
      ],
      "metadata": {
        "id": "FLs5rxcSNIql"
      }
    },
    {
      "cell_type": "code",
      "source": [
        "def get_n_neighbors(graph, idx):\n",
        "  # takes a Data object, an index of a node, and returns the number of the neighbors\n",
        "  # of this node (as an integer).\n",
        "  return int(torch_geometric.utils.degree(graph.edge_index[0], graph.num_nodes)[idx])\n",
        "\n",
        "def get_max_degree(graph):\n",
        "  num_nodes = graph.num_nodes\n",
        "\n",
        "  degrees = [get_n_neighbors(graph, i) for i in range(num_nodes)]\n",
        "\n",
        "  return max(degrees)\n",
        "\n",
        "\n",
        "def get_min_degree(graph):\n",
        "  num_nodes = graph.num_nodes\n",
        "\n",
        "  degrees = [get_n_neighbors(graph, i) for i in range(num_nodes)]\n",
        "\n",
        "  return min(degrees)"
      ],
      "metadata": {
        "id": "M9vPYGR8NKae"
      },
      "execution_count": null,
      "outputs": []
    },
    {
      "cell_type": "code",
      "source": [
        "from tabulate import tabulate\n",
        "\n",
        "tot_nodes = sum([initial_datasets[i].num_nodes for i in range(10)])\n",
        "tot_edges = sum([initial_datasets[i].num_edges for i in range(10)])\n",
        "ave_node_degree = 2*tot_edges / tot_nodes\n",
        "max_node_degree = max([get_max_degree(initial_datasets[i]) for i in range(10)])\n",
        "min_node_degree = min([get_min_degree(initial_datasets[i]) for i in range(10)])\n",
        "\n",
        "table = [\n",
        "    ['Number of nodes: ', tot_nodes],\n",
        "    ['Number of edges: ', tot_edges],\n",
        "    ['Average node degree: ', ave_node_degree],\n",
        "    ['Max node degree', max_node_degree],\n",
        "    ['Min node degree', min_node_degree],\n",
        "    ['Number of classes', 0],\n",
        "    ['Average clustering coefficient', 0.6055],\n",
        "    ['Number of triangles', 1612010],\n",
        "    ['Diameter', 8]\n",
        "]\n",
        "print(\"WHOLE FACEBOOK DATASET\")\n",
        "print(tabulate(table))"
      ],
      "metadata": {
        "colab": {
          "base_uri": "https://localhost:8080/"
        },
        "id": "rEYbas3zNWqv",
        "outputId": "52c34e59-f3bf-4eff-e410-281a6c10b2c4"
      },
      "execution_count": null,
      "outputs": [
        {
          "output_type": "stream",
          "name": "stdout",
          "text": [
            "WHOLE FACEBOOK DATASET\n",
            "------------------------------  ----------------\n",
            "Number of nodes:                  4167\n",
            "Number of edges:                178124\n",
            "Average node degree:                85.4927\n",
            "Max node degree                   1044\n",
            "Min node degree                      1\n",
            "Number of classes                    0\n",
            "Average clustering coefficient       0.6055\n",
            "Number of triangles                  1.61201e+06\n",
            "Diameter                             8\n",
            "------------------------------  ----------------\n"
          ]
        }
      ]
    },
    {
      "cell_type": "markdown",
      "source": [
        "## Edge Prediction with Message-Passing GNN"
      ],
      "metadata": {
        "id": "MkpCbqX1NbPh"
      }
    },
    {
      "cell_type": "markdown",
      "source": [
        "### Pipeline"
      ],
      "metadata": {
        "id": "OQTWIDK-SUtJ"
      }
    },
    {
      "cell_type": "code",
      "source": [
        "from torch_geometric.nn import GCNConv\n",
        "\n",
        "class GCN(torch.nn.Module):\n",
        "    def __init__(self, in_channels, hidden_channels, out_channels):\n",
        "        super().__init__()\n",
        "\n",
        "        self.conv1 = GCNConv(in_channels, hidden_channels)\n",
        "        self.conv2 = GCNConv(hidden_channels, out_channels)\n",
        "        self.act = torch.nn.ReLU()\n",
        "\n",
        "    def forward(self, node_feature, edge_index):\n",
        "\n",
        "        output = self.conv1(node_feature, edge_index)\n",
        "        output = self.act(output)\n",
        "        output = self.conv2(output, edge_index)\n",
        "\n",
        "        return output"
      ],
      "metadata": {
        "id": "Ql9kS2oNSUKp"
      },
      "execution_count": null,
      "outputs": []
    },
    {
      "cell_type": "code",
      "source": [
        "# initialize GCN\n",
        "model = GCN(datasets.num_features, hidden_channels=128, out_channels=64)"
      ],
      "metadata": {
        "id": "uZ7tl71TSRPr"
      },
      "execution_count": null,
      "outputs": []
    },
    {
      "cell_type": "code",
      "source": [
        "# define optimizer\n",
        "optimizer = torch.optim.Adam(params=model.parameters(), lr=0.01)"
      ],
      "metadata": {
        "id": "htIXrXcuTBWD"
      },
      "execution_count": null,
      "outputs": []
    },
    {
      "cell_type": "code",
      "source": [
        "# define loss function\n",
        "loss_fn = torch.nn.BCEWithLogitsLoss()"
      ],
      "metadata": {
        "id": "tt5A8VOLUKiZ"
      },
      "execution_count": null,
      "outputs": []
    },
    {
      "cell_type": "markdown",
      "source": [
        "### Negative Sampling"
      ],
      "metadata": {
        "id": "uBP6aWlkUZ8m"
      }
    },
    {
      "cell_type": "code",
      "source": [
        "from torch_geometric.utils import negative_sampling\n",
        "\n",
        "neg_edge_index = negative_sampling(\n",
        "      edge_index=train_data.edge_index,  # positive edges in the graph\n",
        "      num_nodes=train_data.num_nodes,  # number of nodes\n",
        "      num_neg_samples=5,  # number of negative examples\n",
        "    )\n",
        "\n",
        "print(\"shape of neg_edge_index:\", neg_edge_index.shape)  # [2, num_neg_samples]\n",
        "print(\"negative examples:\", neg_edge_index)"
      ],
      "metadata": {
        "id": "xnxJ8fVeUbXr",
        "colab": {
          "base_uri": "https://localhost:8080/"
        },
        "outputId": "90761fe3-44ba-438b-fb22-e92b0e72a100"
      },
      "execution_count": null,
      "outputs": [
        {
          "output_type": "stream",
          "name": "stdout",
          "text": [
            "shape of neg_edge_index: torch.Size([2, 5])\n",
            "negative examples: tensor([[755, 439, 577, 316, 121],\n",
            "        [ 77,  98,  87, 120, 515]])\n"
          ]
        }
      ]
    },
    {
      "cell_type": "markdown",
      "source": [
        "### Defining Similarity"
      ],
      "metadata": {
        "id": "qTB1Clv5Tudn"
      }
    },
    {
      "cell_type": "code",
      "source": [
        "import numpy as np\n",
        "\n",
        "def compute_similarity(node_embs, edge_index):\n",
        "    # calculate the inner product between all the pairs in the edge_index\n",
        "    # Note: the shape of node_embs is [n, h] where n is the number of nodes, and h is the embedding size\n",
        "    # the shape of edge_index is [2, m] where m is the number of edges\n",
        "\n",
        "    return torch.sum(node_embs[edge_index[0]] * node_embs[edge_index[1]], dim=1)\n",
        "\n",
        "n, h = 5, 10  # number of nodes and embedding size\n",
        "node_embs = torch.rand(n, h)\n",
        "edge_index = torch.tensor([[0, 1, 2, 3],\n",
        "                           [2, 3, 0, 1]])  # compute the similarity of (0, 2), (1, 3), (2, 0), (3, 1)\n",
        "similarity = compute_similarity(node_embs, edge_index)\n",
        "print(\"Similarity:\", similarity)"
      ],
      "metadata": {
        "id": "YL5JbeMQTphc",
        "colab": {
          "base_uri": "https://localhost:8080/"
        },
        "outputId": "f47c38f9-76ab-4dbc-c71f-30365f9bb742"
      },
      "execution_count": null,
      "outputs": [
        {
          "output_type": "stream",
          "name": "stdout",
          "text": [
            "Similarity: tensor([3.2926, 3.0549, 3.2926, 3.0549])\n"
          ]
        }
      ]
    },
    {
      "cell_type": "markdown",
      "source": [
        "### Train and Test"
      ],
      "metadata": {
        "id": "IdsKKNwMbmrY"
      }
    },
    {
      "cell_type": "code",
      "source": [
        "def train(model, data, optimizer, loss_fn):\n",
        "\n",
        "    loss = 0\n",
        "\n",
        "    model.train()\n",
        "    optimizer.zero_grad()\n",
        "    node_emb = model(data.x, data.edge_index)\n",
        "    negative_edge_index = negative_sampling(\n",
        "        edge_index=data.edge_index,\n",
        "        num_nodes=data.num_nodes,\n",
        "        num_neg_samples=data.edge_label_index.shape[1]\n",
        "    )\n",
        "    labels = torch.cat([torch.ones(data.edge_label_index.shape[1]),torch.zeros(negative_edge_index.shape[1])])\n",
        "    edge_index = torch.cat([data.edge_label_index, negative_edge_index], dim=1)\n",
        "\n",
        "    similarity = compute_similarity(node_emb, edge_index)\n",
        "\n",
        "    LOSS = loss_fn(similarity, labels)\n",
        "    LOSS.backward()\n",
        "    optimizer.step()\n",
        "    loss += LOSS.item()\n",
        "\n",
        "    return loss"
      ],
      "metadata": {
        "id": "S5l87g99pBhp"
      },
      "execution_count": null,
      "outputs": []
    },
    {
      "cell_type": "code",
      "source": [
        "from sklearn.metrics import roc_auc_score\n",
        "\n",
        "@torch.no_grad()\n",
        "def test(model, data):\n",
        "    model.eval()\n",
        "    out = model(data.x, data.edge_index)  # use `edge_index` to perform message passing\n",
        "    out = compute_similarity(out, data.edge_label_index).view(-1).sigmoid()  # use `edge_label_index` to compute the loss\n",
        "    return roc_auc_score(data.edge_label.cpu().numpy(), out.cpu().numpy())"
      ],
      "metadata": {
        "id": "ade8IapfpDwh"
      },
      "execution_count": null,
      "outputs": []
    },
    {
      "cell_type": "code",
      "source": [
        "epochs = 50\n",
        "\n",
        "epoch_loss=[]\n",
        "epoch_val=[]\n",
        "epoch_test=[]\n",
        "\n",
        "best_val_auc = final_test_auc = 0\n",
        "for epoch in range(1, epochs + 1):\n",
        "    loss = train(model, train_data, optimizer, loss_fn)\n",
        "    valid_auc = test(model, val_data)\n",
        "    test_auc = test(model, test_data)\n",
        "    if valid_auc > best_val_auc:\n",
        "        best_val_auc = valid_auc\n",
        "        final_test_auc = test_auc\n",
        "    if(epoch%5==0):\n",
        "        print(f'Epoch: {epoch:03d}, Loss: {loss:.4f}, Val: {valid_auc:.4f}, Test: {test_auc:.4f}')\n",
        "\n",
        "    epoch_loss.append(loss)\n",
        "    epoch_val.append(valid_auc)\n",
        "    epoch_test.append(test_auc)"
      ],
      "metadata": {
        "id": "HJeV2SRRpPTQ",
        "colab": {
          "base_uri": "https://localhost:8080/"
        },
        "outputId": "426eb426-abc5-46b9-c149-0a77cf19ee35"
      },
      "execution_count": null,
      "outputs": [
        {
          "output_type": "stream",
          "name": "stdout",
          "text": [
            "Epoch: 005, Loss: 0.6612, Val: 0.8953, Test: 0.8952\n",
            "Epoch: 010, Loss: 0.5360, Val: 0.8921, Test: 0.8931\n",
            "Epoch: 015, Loss: 0.5217, Val: 0.8939, Test: 0.8932\n",
            "Epoch: 020, Loss: 0.5241, Val: 0.8912, Test: 0.8879\n",
            "Epoch: 025, Loss: 0.5151, Val: 0.8932, Test: 0.8918\n",
            "Epoch: 030, Loss: 0.5129, Val: 0.8969, Test: 0.8936\n",
            "Epoch: 035, Loss: 0.5061, Val: 0.9019, Test: 0.8988\n",
            "Epoch: 040, Loss: 0.5038, Val: 0.9077, Test: 0.9042\n",
            "Epoch: 045, Loss: 0.4977, Val: 0.9073, Test: 0.9047\n",
            "Epoch: 050, Loss: 0.4938, Val: 0.9068, Test: 0.9053\n"
          ]
        }
      ]
    },
    {
      "cell_type": "markdown",
      "source": [
        "### Plots"
      ],
      "metadata": {
        "id": "bg4TAB3vuMPj"
      }
    },
    {
      "cell_type": "markdown",
      "source": [
        "### Plots"
      ],
      "metadata": {
        "id": "Jrsckn1yicSt"
      }
    },
    {
      "cell_type": "code",
      "source": [
        "import matplotlib.pyplot as plt\n",
        "\n",
        "plt.title(\"Loss vs Epoch\")\n",
        "plt.xlabel(\"Epoch\")\n",
        "plt.ylabel(\"Loss\")\n",
        "plt.plot(range(len(epoch_loss)), epoch_loss, color =\"green\")\n",
        "plt.show()"
      ],
      "metadata": {
        "colab": {
          "base_uri": "https://localhost:8080/",
          "height": 472
        },
        "outputId": "c92c3eb1-b244-40bf-df45-ddc132adf28a",
        "id": "6_SViob0icS6"
      },
      "execution_count": null,
      "outputs": [
        {
          "output_type": "display_data",
          "data": {
            "text/plain": [
              "<Figure size 640x480 with 1 Axes>"
            ],
            "image/png": "[encoded data removed]"
          },
          "metadata": {}
        }
      ]
    },
    {
      "cell_type": "code",
      "source": [
        "plt.title(\"Val AUC vs Epoch\")\n",
        "plt.xlabel(\"Epoch\")\n",
        "plt.ylabel(\"Val AUC\")\n",
        "plt.plot(range(len(epoch_val)), epoch_val, color =\"green\")\n",
        "plt.show()"
      ],
      "metadata": {
        "colab": {
          "base_uri": "https://localhost:8080/",
          "height": 472
        },
        "outputId": "00f60c12-dc83-453b-d7d9-189cb4ed0b65",
        "id": "FoBqHIz6icS6"
      },
      "execution_count": null,
      "outputs": [
        {
          "output_type": "display_data",
          "data": {
            "text/plain": [
              "<Figure size 640x480 with 1 Axes>"
            ],
            "image/png": "[encoded data removed]"
          },
          "metadata": {}
        }
      ]
    },
    {
      "cell_type": "code",
      "source": [
        "plt.title(\"Test AUC vs Epoch\")\n",
        "plt.xlabel(\"Epoch\")\n",
        "plt.ylabel(\"Test AUC\")\n",
        "plt.plot(range(len(epoch_test)), epoch_test, color =\"green\")\n",
        "plt.show()"
      ],
      "metadata": {
        "colab": {
          "base_uri": "https://localhost:8080/",
          "height": 472
        },
        "outputId": "42ea71be-ce5d-4ce8-9b36-3fc9a82abc19",
        "id": "ApaDLJmWicS7"
      },
      "execution_count": null,
      "outputs": [
        {
          "output_type": "display_data",
          "data": {
            "text/plain": [
              "<Figure size 640x480 with 1 Axes>"
            ],
            "image/png": "[encoded data removed]"
          },
          "metadata": {}
        }
      ]
    },
    {
      "cell_type": "markdown",
      "source": [
        "### Evaluation Plots"
      ],
      "metadata": {
        "id": "50FbuQXsicS7"
      }
    },
    {
      "cell_type": "markdown",
      "source": [
        "Source: https://towardsdatascience.com/visualize-machine-learning-metrics-like-a-pro-b0d5d7815065"
      ],
      "metadata": {
        "id": "TDX8Dke9icS7"
      }
    },
    {
      "cell_type": "code",
      "source": [
        "node_emb = model(test_data.x, test_data.edge_index)\n",
        "negative_edge_index = negative_sampling(\n",
        "        edge_index=test_data.edge_index,\n",
        "        num_nodes=test_data.num_nodes,\n",
        "        num_neg_samples=test_data.edge_label_index.shape[1]\n",
        ")\n",
        "labels = torch.cat([torch.ones(test_data.edge_label_index.shape[1]),torch.zeros(negative_edge_index.shape[1])])\n",
        "edge_index = torch.cat([test_data.edge_label_index, negative_edge_index], dim=1)\n",
        "\n",
        "similarity = compute_similarity(node_emb, edge_index)\n",
        "\n",
        "print(len(similarity), len(labels))"
      ],
      "metadata": {
        "colab": {
          "base_uri": "https://localhost:8080/"
        },
        "outputId": "47b42c57-eb63-4f5d-8ccf-e07ba3fcabff",
        "id": "5L9Qxj1QicS7"
      },
      "execution_count": null,
      "outputs": [
        {
          "output_type": "stream",
          "name": "stdout",
          "text": [
            "11844 11844\n"
          ]
        }
      ]
    },
    {
      "cell_type": "markdown",
      "source": [
        "Now, we use the node embeddings on the test set to get a probability of prediction for each, and make various diagnostic plots for our model"
      ],
      "metadata": {
        "id": "MOoaRd6yicS7"
      }
    },
    {
      "cell_type": "code",
      "source": [
        "# make the plots better below by using softmax?\n",
        "labels = labels\n",
        "\n",
        "similarity_np = similarity.detach().numpy()\n",
        "\n",
        "similarity_np = (similarity_np-np.mean(similarity_np))/np.max(similarity_np)\n",
        "similarity_np = (similarity_np+1)/2\n",
        "similarity_np_pred = np.rint(similarity_np)\n",
        "\n",
        "print(similarity_np)"
      ],
      "metadata": {
        "colab": {
          "base_uri": "https://localhost:8080/"
        },
        "outputId": "ae811699-08bc-4a4f-afa5-5d3d0ee283b4",
        "id": "cuCuZvAFicS7"
      },
      "execution_count": null,
      "outputs": [
        {
          "output_type": "stream",
          "name": "stdout",
          "text": [
            "[0.68002766 0.48907608 0.738198   ... 0.44681832 0.5197583  0.6515423 ]\n"
          ]
        }
      ]
    },
    {
      "cell_type": "markdown",
      "source": [
        "#### Diagnostic Plots"
      ],
      "metadata": {
        "id": "ZNT3EGCOicS7"
      }
    },
    {
      "cell_type": "code",
      "source": [
        "!pip install scikit-plot==0.3.7\n",
        "import scikitplot as skplt"
      ],
      "metadata": {
        "colab": {
          "base_uri": "https://localhost:8080/"
        },
        "id": "_3qKRW4SiH9A",
        "outputId": "c021fd44-6e30-4c1b-9bf1-64fa8c6455c1"
      },
      "execution_count": null,
      "outputs": [
        {
          "output_type": "stream",
          "name": "stdout",
          "text": [
            "Requirement already satisfied: scikit-plot==0.3.7 in /usr/local/lib/python3.10/dist-packages (0.3.7)\n",
            "Requirement already satisfied: matplotlib>=1.4.0 in /usr/local/lib/python3.10/dist-packages (from scikit-plot==0.3.7) (3.7.1)\n",
            "Requirement already satisfied: scikit-learn>=0.18 in /usr/local/lib/python3.10/dist-packages (from scikit-plot==0.3.7) (1.2.2)\n",
            "Requirement already satisfied: scipy>=0.9 in /usr/local/lib/python3.10/dist-packages (from scikit-plot==0.3.7) (1.11.4)\n",
            "Requirement already satisfied: joblib>=0.10 in /usr/local/lib/python3.10/dist-packages (from scikit-plot==0.3.7) (1.3.2)\n",
            "Requirement already satisfied: contourpy>=1.0.1 in /usr/local/lib/python3.10/dist-packages (from matplotlib>=1.4.0->scikit-plot==0.3.7) (1.2.0)\n",
            "Requirement already satisfied: cycler>=0.10 in /usr/local/lib/python3.10/dist-packages (from matplotlib>=1.4.0->scikit-plot==0.3.7) (0.12.1)\n",
            "Requirement already satisfied: fonttools>=4.22.0 in /usr/local/lib/python3.10/dist-packages (from matplotlib>=1.4.0->scikit-plot==0.3.7) (4.46.0)\n",
            "Requirement already satisfied: kiwisolver>=1.0.1 in /usr/local/lib/python3.10/dist-packages (from matplotlib>=1.4.0->scikit-plot==0.3.7) (1.4.5)\n",
            "Requirement already satisfied: numpy>=1.20 in /usr/local/lib/python3.10/dist-packages (from matplotlib>=1.4.0->scikit-plot==0.3.7) (1.23.5)\n",
            "Requirement already satisfied: packaging>=20.0 in /usr/local/lib/python3.10/dist-packages (from matplotlib>=1.4.0->scikit-plot==0.3.7) (23.2)\n",
            "Requirement already satisfied: pillow>=6.2.0 in /usr/local/lib/python3.10/dist-packages (from matplotlib>=1.4.0->scikit-plot==0.3.7) (9.4.0)\n",
            "Requirement already satisfied: pyparsing>=2.3.1 in /usr/local/lib/python3.10/dist-packages (from matplotlib>=1.4.0->scikit-plot==0.3.7) (3.1.1)\n",
            "Requirement already satisfied: python-dateutil>=2.7 in /usr/local/lib/python3.10/dist-packages (from matplotlib>=1.4.0->scikit-plot==0.3.7) (2.8.2)\n",
            "Requirement already satisfied: threadpoolctl>=2.0.0 in /usr/local/lib/python3.10/dist-packages (from scikit-learn>=0.18->scikit-plot==0.3.7) (3.2.0)\n",
            "Requirement already satisfied: six>=1.5 in /usr/local/lib/python3.10/dist-packages (from python-dateutil>=2.7->matplotlib>=1.4.0->scikit-plot==0.3.7) (1.16.0)\n"
          ]
        }
      ]
    },
    {
      "cell_type": "code",
      "source": [
        "similarity = similarity_np\n",
        "similarity_pred = similarity_np_pred"
      ],
      "metadata": {
        "id": "yW8MEi0zh_tG"
      },
      "execution_count": null,
      "outputs": []
    },
    {
      "cell_type": "code",
      "source": [
        "skplt.metrics.plot_confusion_matrix(labels, similarity_pred, normalize=True, title = 'Confusion Matrix for GBC')"
      ],
      "metadata": {
        "colab": {
          "base_uri": "https://localhost:8080/",
          "height": 490
        },
        "outputId": "337a6051-5a20-4b44-d396-42971449aff6",
        "id": "4-ub6aP3icS8"
      },
      "execution_count": null,
      "outputs": [
        {
          "output_type": "execute_result",
          "data": {
            "text/plain": [
              "<Axes: title={'center': 'Confusion Matrix for GBC'}, xlabel='Predicted label', ylabel='True label'>"
            ]
          },
          "metadata": {},
          "execution_count": 26
        },
        {
          "output_type": "display_data",
          "data": {
            "text/plain": [
              "<Figure size 640x480 with 2 Axes>"
            ],
            "image/png": "[encoded data removed]"
          },
          "metadata": {}
        }
      ]
    }
  ]
}